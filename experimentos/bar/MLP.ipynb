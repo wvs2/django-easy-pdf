{
  "nbformat": 4,
  "nbformat_minor": 0,
  "metadata": {
    "colab": {
      "name": "SVM.ipynb",
      "version": "0.3.2",
      "provenance": [],
      "include_colab_link": true
    },
    "kernelspec": {
      "name": "python3",
      "display_name": "Python 3"
    }
  },
  "cells": [
    {
      "cell_type": "markdown",
      "metadata": {
        "id": "view-in-github",
        "colab_type": "text"
      },
      "source": [
        "<a href=\"https://colab.research.google.com/github/wvs2/django-easy-pdf/blob/master/experimentos/bar/MLP.ipynb\" target=\"_parent\"><img src=\"https://colab.research.google.com/assets/colab-badge.svg\" alt=\"Open In Colab\"/></a>"
      ]
    },
    {
      "cell_type": "code",
      "metadata": {
        "id": "hu6r0iwTupKT",
        "colab_type": "code",
        "colab": {}
      },
      "source": [
        "import pandas as pd\n",
        "import matplotlib.pyplot as plt\n",
        "import numpy as np"
      ],
      "execution_count": 0,
      "outputs": []
    },
    {
      "cell_type": "code",
      "metadata": {
        "id": "PufdzFZGuqHK",
        "colab_type": "code",
        "colab": {}
      },
      "source": [
        "pred_train = pd.read_csv('pred_test.csv')"
      ],
      "execution_count": 0,
      "outputs": []
    },
    {
      "cell_type": "code",
      "metadata": {
        "id": "MV2nSWWqu_lQ",
        "colab_type": "code",
        "colab": {}
      },
      "source": [
        "clf = \"_mlp\"\n",
        "clf_title = \"MLP\""
      ],
      "execution_count": 0,
      "outputs": []
    },
    {
      "cell_type": "code",
      "metadata": {
        "id": "nx0jA6S9vOrh",
        "colab_type": "code",
        "colab": {}
      },
      "source": [
        "columns = [\n",
        "    'cv'+clf, 'tfidf'+clf, 'w2v'+clf, 'glove'+clf, 'fast'+clf\n",
        "]"
      ],
      "execution_count": 0,
      "outputs": []
    },
    {
      "cell_type": "code",
      "metadata": {
        "id": "k44lAoRpvbFY",
        "colab_type": "code",
        "colab": {}
      },
      "source": [
        "list_certos = {\n",
        "    5: 0, 4: 0, 3: 0, 2:0, 1:0, 0:0\n",
        "}\n",
        "k = 0\n",
        "for c in pred_train['class']:\n",
        "  cont_certo = 0\n",
        "  for col in columns:\n",
        "    if c == pred_train[col][k]:\n",
        "      cont_certo += 1\n",
        "  list_certos[cont_certo] += 1  \n",
        "  k += 1"
      ],
      "execution_count": 0,
      "outputs": []
    },
    {
      "cell_type": "code",
      "metadata": {
        "id": "rNzQwcXRyT4m",
        "colab_type": "code",
        "colab": {
          "base_uri": "https://localhost:8080/",
          "height": 314
        },
        "outputId": "910409c8-0c26-4c26-e13f-fbec5cd56c49"
      },
      "source": [
        "# plt.bar(clf_acertos, list_certos.values())\n",
        "\n",
        "labels = [5, 4, 3, 2, 1, 0]\n",
        "\n",
        "x = np.arange(len(labels))  # the label locations\n",
        "width = 0.35  # the width of the bars\n",
        "\n",
        "fig, ax = plt.subplots()\n",
        "rects1 = ax.bar(x - width/2, list_certos.values(), width)\n",
        "# rects2 = ax.bar(x + width/2, women_means, width, label='Women')\n",
        "\n",
        "# Add some text for labels, title and custom x-axis tick labels, etc.\n",
        "ax.set_ylabel('Instâncias')\n",
        "ax.set_xlabel('Classificadores')\n",
        "ax.set_title('Classificadores x Instâncias: '+clf_title)\n",
        "ax.set_xticks(x)\n",
        "ax.set_xticklabels(labels)\n",
        "ax.legend()\n",
        "\n",
        "def autolabel(rects):\n",
        "  for rect in rects:\n",
        "    height = rect.get_height()\n",
        "    ax.annotate('{}'.format(height),\n",
        "    xy=(\n",
        "      rect.get_x() + rect.get_width() / 2, height),\n",
        "      xytext=(0, 3),  # 3 points vertical offset\n",
        "      textcoords=\"offset points\",\n",
        "      ha='center', va='bottom'\n",
        "    )\n",
        "\n",
        "\n",
        "autolabel(rects1)\n",
        "fig.tight_layout()\n",
        "\n",
        "plt.show()"
      ],
      "execution_count": 75,
      "outputs": [
        {
          "output_type": "stream",
          "text": [
            "No handles with labels found to put in legend.\n"
          ],
          "name": "stderr"
        },
        {
          "output_type": "display_data",
          "data": {
            "image/png": "[encoded data removed]",
            "text/plain": [
              "<Figure size 432x288 with 1 Axes>"
            ]
          },
          "metadata": {
            "tags": []
          }
        }
      ]
    }
  ]
}