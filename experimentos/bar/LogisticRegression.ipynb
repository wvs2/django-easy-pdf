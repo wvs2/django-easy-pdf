{
  "nbformat": 4,
  "nbformat_minor": 0,
  "metadata": {
    "colab": {
      "name": "LogisticRegression.ipynb",
      "version": "0.3.2",
      "provenance": [],
      "include_colab_link": true
    },
    "kernelspec": {
      "name": "python3",
      "display_name": "Python 3"
    }
  },
  "cells": [
    {
      "cell_type": "markdown",
      "metadata": {
        "id": "view-in-github",
        "colab_type": "text"
      },
      "source": [
        "<a href=\"https://colab.research.google.com/github/wvs2/django-easy-pdf/blob/master/experimentos/bar/LogisticRegression.ipynb\" target=\"_parent\"><img src=\"https://colab.research.google.com/assets/colab-badge.svg\" alt=\"Open In Colab\"/></a>"
      ]
    },
    {
      "cell_type": "code",
      "metadata": {
        "id": "hu6r0iwTupKT",
        "colab_type": "code",
        "colab": {}
      },
      "source": [
        "import pandas as pd\n",
        "import matplotlib.pyplot as plt\n",
        "import numpy as np"
      ],
      "execution_count": 0,
      "outputs": []
    },
    {
      "cell_type": "code",
      "metadata": {
        "id": "PufdzFZGuqHK",
        "colab_type": "code",
        "colab": {}
      },
      "source": [
        "pred_train = pd.read_csv('pred_test.csv')"
      ],
      "execution_count": 0,
      "outputs": []
    },
    {
      "cell_type": "code",
      "metadata": {
        "id": "iw8ftlbrutYI",
        "colab_type": "code",
        "colab": {}
      },
      "source": [
        "clf_acertos = [5, 4, 3, 2, 1, 0]"
      ],
      "execution_count": 0,
      "outputs": []
    },
    {
      "cell_type": "code",
      "metadata": {
        "id": "MV2nSWWqu_lQ",
        "colab_type": "code",
        "colab": {}
      },
      "source": [
        "clf = \"_lr\"\n",
        "clf_title = \"Logistic Regression\""
      ],
      "execution_count": 0,
      "outputs": []
    },
    {
      "cell_type": "code",
      "metadata": {
        "id": "nx0jA6S9vOrh",
        "colab_type": "code",
        "colab": {}
      },
      "source": [
        "columns = [\n",
        "    'cv'+clf, 'tfidf'+clf, 'w2v'+clf, 'glove'+clf, 'fast'+clf\n",
        "]"
      ],
      "execution_count": 0,
      "outputs": []
    },
    {
      "cell_type": "code",
      "metadata": {
        "id": "k44lAoRpvbFY",
        "colab_type": "code",
        "colab": {}
      },
      "source": [
        "list_certos = {\n",
        "    5: 0, 4: 0, 3: 0, 2:0, 1:0, 0:0\n",
        "}\n",
        "k = 0\n",
        "for c in pred_train['class']:\n",
        "  cont_certo = 0\n",
        "  for col in columns:\n",
        "    if c == pred_train[col][k]:\n",
        "      cont_certo += 1\n",
        "  list_certos[cont_certo] += 1  \n",
        "  k += 1"
      ],
      "execution_count": 0,
      "outputs": []
    },
    {
      "cell_type": "code",
      "metadata": {
        "id": "rNzQwcXRyT4m",
        "colab_type": "code",
        "colab": {
          "base_uri": "https://localhost:8080/",
          "height": 298
        },
        "outputId": "541b50e7-0da4-4ea0-bdc4-770661929fda"
      },
      "source": [
        "plt.bar(clf_acertos, list_certos.values())\n",
        "# plt.xticks(y_pos, objects)\n",
        "plt.ylabel('Padrões')\n",
        "plt.title('Padrões Corretamente Classificados '+clf_title)\n"
      ],
      "execution_count": 47,
      "outputs": [
        {
          "output_type": "execute_result",
          "data": {
            "text/plain": [
              "Text(0.5, 1.0, 'Padrões Corretamente Classificados Logistic Regression')"
            ]
          },
          "metadata": {
            "tags": []
          },
          "execution_count": 47
        },
        {
          "output_type": "display_data",
          "data": {
            "image/png": "[encoded data removed]",
            "text/plain": [
              "<Figure size 432x288 with 1 Axes>"
            ]
          },
          "metadata": {
            "tags": []
          }
        }
      ]
    }
  ]
}